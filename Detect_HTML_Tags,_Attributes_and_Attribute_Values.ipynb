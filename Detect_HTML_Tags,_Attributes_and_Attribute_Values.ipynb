{
  "nbformat": 4,
  "nbformat_minor": 0,
  "metadata": {
    "colab": {
      "name": "Detect HTML Tags, Attributes and Attribute Values.ipynb",
      "provenance": [],
      "authorship_tag": "ABX9TyMkTHRRf5jQ3gr+X0/MEfep",
      "include_colab_link": true
    },
    "kernelspec": {
      "name": "python3",
      "display_name": "Python 3"
    }
  },
  "cells": [
    {
      "cell_type": "markdown",
      "metadata": {
        "id": "view-in-github",
        "colab_type": "text"
      },
      "source": [
        "<a href=\"https://colab.research.google.com/github/gitpushnjit/HackerRank-Practice-Python/blob/master/Detect_HTML_Tags%2C_Attributes_and_Attribute_Values.ipynb\" target=\"_parent\"><img src=\"https://colab.research.google.com/assets/colab-badge.svg\" alt=\"Open In Colab\"/></a>"
      ]
    },
    {
      "cell_type": "markdown",
      "metadata": {
        "id": "3RY9R7WUtWrI",
        "colab_type": "text"
      },
      "source": [
        "You are given an HTML code snippet of N lines.\n",
        "\n",
        "Your task is to detect and print all the HTML tags, attributes and attribute values."
      ]
    },
    {
      "cell_type": "code",
      "metadata": {
        "id": "U0ZiPS01pPLC",
        "colab_type": "code",
        "colab": {
          "base_uri": "https://localhost:8080/",
          "height": 261
        },
        "outputId": "c66025f3-00b2-451c-a24c-c78a9d4e5e61"
      },
      "source": [
        "from html.parser import HTMLParser\n",
        "\n",
        "class HtmlParser(HTMLParser):\n",
        "    def handle_starttag(self, tag, attrs):\n",
        "        print(tag)\n",
        "        for attr in attrs:\n",
        "            print(\"->\", attr[0], \">\", attr[1])\n",
        "\n",
        "parser = HtmlParser()\n",
        "\n",
        "for i in range(int(input())):\n",
        "    parser.feed(input())"
      ],
      "execution_count": 2,
      "outputs": [
        {
          "output_type": "stream",
          "text": [
            "1\n",
            "<head> <title>HTML</title> </head> <object type=\"application/x-flash\"    data=\"your-file.swf\"    width=\"0\" height=\"0\">   <!-- <param name=\"movie\" value=\"your-file.swf\" /> -->   <param name=\"quality\" value=\"high\"/> </object>\n",
            "head\n",
            "title\n",
            "object\n",
            "-> type > application/x-flash\n",
            "-> data > your-file.swf\n",
            "-> width > 0\n",
            "-> height > 0\n",
            "param\n",
            "-> name > quality\n",
            "-> value > high\n"
          ],
          "name": "stdout"
        }
      ]
    }
  ]
}