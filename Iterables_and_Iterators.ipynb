{
  "nbformat": 4,
  "nbformat_minor": 0,
  "metadata": {
    "colab": {
      "name": "Iterables and Iterators.ipynb",
      "provenance": [],
      "authorship_tag": "ABX9TyNp+M0jDDIJlbphOP8Skp+V",
      "include_colab_link": true
    },
    "kernelspec": {
      "name": "python3",
      "display_name": "Python 3"
    }
  },
  "cells": [
    {
      "cell_type": "markdown",
      "metadata": {
        "id": "view-in-github",
        "colab_type": "text"
      },
      "source": [
        "<a href=\"https://colab.research.google.com/github/gitpushnjit/HackerRank-Practice-Python/blob/master/Iterables_and_Iterators.ipynb\" target=\"_parent\"><img src=\"https://colab.research.google.com/assets/colab-badge.svg\" alt=\"Open In Colab\"/></a>"
      ]
    },
    {
      "cell_type": "markdown",
      "metadata": {
        "id": "4MiXABXdA85i",
        "colab_type": "text"
      },
      "source": [
        "The itertools module standardizes a core set of fast, memory efficient tools that are useful by themselves or in combination. Together, they form an iterator algebra making it possible to construct specialized tools succinctly and efficiently in pure Python.\n",
        "\n",
        "You are given a list of *n* lowercase English letters. For a given integer *k*, you can select any *k* indices (assume 1-based indexing) with a uniform probability from the list.\n",
        "\n",
        "Find the probability that at least one of the *k* indices selected will contain the letter: '*a*'."
      ]
    },
    {
      "cell_type": "code",
      "metadata": {
        "id": "LqM3WZ1b_LCZ",
        "colab_type": "code",
        "colab": {
          "base_uri": "https://localhost:8080/",
          "height": 92
        },
        "outputId": "72730d4b-9491-4375-90df-dda87d99ade5"
      },
      "source": [
        "from itertools import combinations\n",
        "\n",
        "n = int(input())\n",
        "L = input().split()\n",
        "k = int(input())\n",
        "\n",
        "Comb = list(combinations(L, k))\n",
        "Fil = filter(lambda c: 'a' in c, Comb)\n",
        "print(\"{0:.3}\".format(len(list(Fil))/len(Comb)))"
      ],
      "execution_count": 2,
      "outputs": [
        {
          "output_type": "stream",
          "text": [
            "4\n",
            "a a c d\n",
            "2\n",
            "0.833\n"
          ],
          "name": "stdout"
        }
      ]
    }
  ]
}