{
  "nbformat": 4,
  "nbformat_minor": 0,
  "metadata": {
    "colab": {
      "name": "Division.ipynb",
      "provenance": [],
      "authorship_tag": "ABX9TyOtMXMsg4qHUiEoxwmbSFM9",
      "include_colab_link": true
    },
    "kernelspec": {
      "name": "python3",
      "display_name": "Python 3"
    }
  },
  "cells": [
    {
      "cell_type": "markdown",
      "metadata": {
        "id": "view-in-github",
        "colab_type": "text"
      },
      "source": [
        "<a href=\"https://colab.research.google.com/github/gitpushnjit/HackerRank-Practice-Python/blob/master/Division.ipynb\" target=\"_parent\"><img src=\"https://colab.research.google.com/assets/colab-badge.svg\" alt=\"Open In Colab\"/></a>"
      ]
    },
    {
      "cell_type": "markdown",
      "metadata": {
        "id": "dIM3pHsVrYLG",
        "colab_type": "text"
      },
      "source": [
        "Read two integers and print two lines. The first line should contain integer division, a // b . The second line should contain float division, a / b.\n",
        "\n",
        "You don't need to perform any rounding or formatting operations."
      ]
    },
    {
      "cell_type": "code",
      "metadata": {
        "id": "UTjUX-YXqObC",
        "colab_type": "code",
        "colab": {
          "base_uri": "https://localhost:8080/",
          "height": 129
        },
        "outputId": "1562c442-13a1-493a-e0b8-f1f35ef173a6"
      },
      "source": [
        "print(\"Input:\")\n",
        "if __name__ == '__main__':\n",
        "    a = int(input())\n",
        "    b = int(input())\n",
        "    print(\"Output:\")\n",
        "    print(\"a//b is :{}\\na/b is :{}\".format(a//b,a/b))"
      ],
      "execution_count": 1,
      "outputs": [
        {
          "output_type": "stream",
          "text": [
            "Input:\n",
            "4\n",
            "3\n",
            "Output:\n",
            "a//b is :1\n",
            "a/b is :1.3333333333333333\n"
          ],
          "name": "stdout"
        }
      ]
    }
  ]
}