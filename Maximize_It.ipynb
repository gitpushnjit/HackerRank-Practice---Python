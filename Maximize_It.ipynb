{
  "nbformat": 4,
  "nbformat_minor": 0,
  "metadata": {
    "colab": {
      "name": "Maximize It.ipynb",
      "provenance": [],
      "authorship_tag": "ABX9TyO++DdMHQLBqVqYmuHGcbP2",
      "include_colab_link": true
    },
    "kernelspec": {
      "name": "python3",
      "display_name": "Python 3"
    }
  },
  "cells": [
    {
      "cell_type": "markdown",
      "metadata": {
        "id": "view-in-github",
        "colab_type": "text"
      },
      "source": [
        "<a href=\"https://colab.research.google.com/github/gitpushnjit/HackerRank-Practice-Python/blob/master/Maximize_It.ipynb\" target=\"_parent\"><img src=\"https://colab.research.google.com/assets/colab-badge.svg\" alt=\"Open In Colab\"/></a>"
      ]
    },
    {
      "cell_type": "markdown",
      "metadata": {
        "id": "qZb2bboTLYVZ",
        "colab_type": "text"
      },
      "source": [
        "You are given a function f(x)=x^2. You are also given k lists. The i th list consists of Ni elements.\n",
        "\n",
        "You have to pick one element from each list so that the value from the equation below is maximized:\n",
        "\n",
        "S=(f(X1)+f(X2)+...+f(Xk))% M\n",
        "\n",
        "Xi denotes the element picked from the i th list . Find the maximized value Smax obtained.\n",
        "\n",
        "% denotes the modulo operator.\n",
        "\n",
        "Note that you need to take exactly one element from each list, not necessarily the largest element. You add the squares of the chosen elements and perform the modulo operation. The maximum value that you can obtain, will be the answer to the problem."
      ]
    },
    {
      "cell_type": "code",
      "metadata": {
        "id": "mVBZb8ZNLBE-",
        "colab_type": "code",
        "colab": {
          "base_uri": "https://localhost:8080/",
          "height": 111
        },
        "outputId": "2d5d4120-9d9b-43e6-a742-0c9318dcdd9a"
      },
      "source": [
        "import itertools\n",
        "temp = input()\n",
        "l,m = temp.split()\n",
        "f=[]\n",
        "for i in range(0,int(l)):\n",
        "    temp = input()\n",
        "    input_list = [int(x)**2 for x in temp.split()]\n",
        "    f.append(input_list[1:])\n",
        "\n",
        "r = list(itertools.product(*f))\n",
        "s = [sum(x)%int(m) for x in r]\n",
        "print(max(s))"
      ],
      "execution_count": 1,
      "outputs": [
        {
          "output_type": "stream",
          "text": [
            "3 1000\n",
            "2 5 4\n",
            "3 7 8 9\n",
            "5 5 7 8 9 10 \n",
            "206\n"
          ],
          "name": "stdout"
        }
      ]
    }
  ]
}