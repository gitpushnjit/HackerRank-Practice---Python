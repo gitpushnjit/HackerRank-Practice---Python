{
  "nbformat": 4,
  "nbformat_minor": 0,
  "metadata": {
    "colab": {
      "name": "Function for Leap Year.ipynb",
      "provenance": [],
      "authorship_tag": "ABX9TyNEKoDrqdEqF63JFtS+PmRI",
      "include_colab_link": true
    },
    "kernelspec": {
      "name": "python3",
      "display_name": "Python 3"
    }
  },
  "cells": [
    {
      "cell_type": "markdown",
      "metadata": {
        "id": "view-in-github",
        "colab_type": "text"
      },
      "source": [
        "<a href=\"https://colab.research.google.com/github/gitpushnjit/HackerRank-Practice-Python/blob/master/Function_for_Leap_Year.ipynb\" target=\"_parent\"><img src=\"https://colab.research.google.com/assets/colab-badge.svg\" alt=\"Open In Colab\"/></a>"
      ]
    },
    {
      "cell_type": "markdown",
      "metadata": {
        "id": "sTHbBtnwcljO",
        "colab_type": "text"
      },
      "source": [
        "We add a Leap Day on February 29, almost every four years. The leap day is an extra, or intercalary day and we add it to the shortest month of the year, February.\n",
        "In the Gregorian calendar three criteria must be taken into account to identify leap years:\n",
        "\n",
        "* The year can be evenly divided by 4, is a leap year, unless:\n",
        "* The year can be evenly divided by 100, it is NOT a leap year, unless:\n",
        "* The year is also evenly divisible by 400. Then it is a leap year.\n",
        "\n",
        "This means that in the Gregorian calendar, the years 2000 and 2400 are leap years, while 1800, 1900, 2100, 2200, 2300 and 2500 are NOT leap years.\n",
        "\n",
        "Task\n",
        "You are given the year, and you have to write a function to check if the year is leap or not."
      ]
    },
    {
      "cell_type": "code",
      "metadata": {
        "id": "486_CPPwckzn",
        "colab_type": "code",
        "colab": {
          "base_uri": "https://localhost:8080/",
          "height": 54
        },
        "outputId": "1e76985e-e1ce-417c-e23e-479c5f837408"
      },
      "source": [
        "def is_leap(year):\n",
        "    if year % 400 == 0:\n",
        "        return True\n",
        "    if year % 100 == 0:\n",
        "        return False\n",
        "    if year % 4 == 0:\n",
        "        return True\n",
        "    else:\n",
        "        return False\n",
        "\n",
        "year = int(input())\n",
        "print(is_leap(year))"
      ],
      "execution_count": 4,
      "outputs": [
        {
          "output_type": "stream",
          "text": [
            "1900\n",
            "False\n"
          ],
          "name": "stdout"
        }
      ]
    }
  ]
}