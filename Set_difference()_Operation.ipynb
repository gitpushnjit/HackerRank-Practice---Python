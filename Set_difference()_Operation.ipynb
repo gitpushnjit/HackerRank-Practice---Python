{
  "nbformat": 4,
  "nbformat_minor": 0,
  "metadata": {
    "colab": {
      "name": "Set .difference() Operation.ipynb",
      "provenance": [],
      "authorship_tag": "ABX9TyMbdLHT2Cwaak6jJQiHcHLp",
      "include_colab_link": true
    },
    "kernelspec": {
      "name": "python3",
      "display_name": "Python 3"
    }
  },
  "cells": [
    {
      "cell_type": "markdown",
      "metadata": {
        "id": "view-in-github",
        "colab_type": "text"
      },
      "source": [
        "<a href=\"https://colab.research.google.com/github/gitpushnjit/HackerRank-Practice-Python/blob/master/Set_difference()_Operation.ipynb\" target=\"_parent\"><img src=\"https://colab.research.google.com/assets/colab-badge.svg\" alt=\"Open In Colab\"/></a>"
      ]
    },
    {
      "cell_type": "markdown",
      "metadata": {
        "id": "5uee3tbf1A2L",
        "colab_type": "text"
      },
      "source": [
        ".difference()\n",
        "\n",
        "The tool .difference() returns a set with all the elements from the set that are not in an iterable.\n",
        "Sometimes the - operator is used in place of the .difference() tool, but it only operates on the set of elements in set.\n",
        "Set is immutable to the .difference() operation (or the - operation).\n",
        "\n",
        "Students of District College have a subscription to English and French newspapers. Some students have subscribed to only the English newspaper, some have subscribed to only the French newspaper, and some have subscribed to both newspapers.\n",
        "\n",
        "You are given two sets of student roll numbers. One set has subscribed to the English newspaper, and one set has subscribed to the French newspaper. Your task is to find the total number of students who have subscribed to only English newspapers."
      ]
    },
    {
      "cell_type": "code",
      "metadata": {
        "id": "pUelAtUQy0BV",
        "colab_type": "code",
        "colab": {
          "base_uri": "https://localhost:8080/",
          "height": 111
        },
        "outputId": "9cd5f0b6-ebfb-4676-d7c7-911d58b4bbf6"
      },
      "source": [
        "n1 = int(input())\n",
        "set_1 = set(map(int,input().split()))\n",
        "n2 = int(input())\n",
        "set_2 = set(map(int,input().split()))\n",
        "print(len(set_1-set_2))"
      ],
      "execution_count": 1,
      "outputs": [
        {
          "output_type": "stream",
          "text": [
            "9\n",
            "1 2 3 4 5 6 7 8 9\n",
            "9\n",
            "10 1 2 3 11 21 55 6 8\n",
            "4\n"
          ],
          "name": "stdout"
        }
      ]
    }
  ]
}