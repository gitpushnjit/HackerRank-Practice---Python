{
  "nbformat": 4,
  "nbformat_minor": 0,
  "metadata": {
    "colab": {
      "name": "Set .difference() Operation.ipynb",
      "provenance": [],
      "authorship_tag": "ABX9TyM2eL8upLxk/z6CD5Ye01vE",
      "include_colab_link": true
    },
    "kernelspec": {
      "name": "python3",
      "display_name": "Python 3"
    }
  },
  "cells": [
    {
      "cell_type": "markdown",
      "metadata": {
        "id": "view-in-github",
        "colab_type": "text"
      },
      "source": [
        "<a href=\"https://colab.research.google.com/github/gitpushnjit/HackerRank-Practice-Python/blob/master/Set_difference()_Operation.ipynb\" target=\"_parent\"><img src=\"https://colab.research.google.com/assets/colab-badge.svg\" alt=\"Open In Colab\"/></a>"
      ]
    },
    {
      "cell_type": "markdown",
      "metadata": {
        "id": "5uee3tbf1A2L",
        "colab_type": "text"
      },
      "source": [
        ".difference()\n",
        "\n",
        "The tool .difference() returns a set with all the elements from the set that are not in an iterable.\n",
        "Sometimes the - operator is used in place of the .difference() tool, but it only operates on the set of elements in set.\n",
        "Set is immutable to the .difference() operation (or the - operation)\n",
        ".\n",
        "\n",
        "Students of District College have a subscription to English and French newspapers. Some students have subscribed to only the English newspaper, some have subscribed to only the French newspaper, and some have subscribed to both newspapers.\n",
        "\n",
        "You are given two sets of student roll numbers. One set has subscribed to the English newspaper, and one set has subscribed to the French newspaper. Your task is to find the total number of students who have subscribed to only English newspapers."
      ]
    },
    {
      "cell_type": "code",
      "metadata": {
        "id": "pUelAtUQy0BV",
        "colab_type": "code",
        "colab": {
          "base_uri": "https://localhost:8080/",
          "height": 204
        },
        "outputId": "69df26f6-2f0b-472d-8593-85bf5d6e5b02"
      },
      "source": [
        "print(\"Print the number of elements in Set 1 :\")\n",
        "n1=int(input())\n",
        "print(\"Print the elements of Set 1:\")\n",
        "s1=set(map(int,input().split()))\n",
        "print(\"Print the number of elements in Set 2 :\")\n",
        "n2=int(input())\n",
        "print(\"Print the elements of Set 2:\")\n",
        "s2=set(map(int,input().split()))\n",
        "print(\"Difference :\")\n",
        "print(len(s1-s2))"
      ],
      "execution_count": 3,
      "outputs": [
        {
          "output_type": "stream",
          "text": [
            "Print the number of elements in Set 1 :\n",
            "9\n",
            "Print the elements of Set 1:\n",
            "1 2 3 4 5 6 7 8 9\n",
            "Print the number of elements in Set 2 :\n",
            "9\n",
            "Print the elements of Set 2:\n",
            "10 1 2 3 11 21 55 6 8\n",
            "Difference :\n",
            "4\n"
          ],
          "name": "stdout"
        }
      ]
    }
  ]
}