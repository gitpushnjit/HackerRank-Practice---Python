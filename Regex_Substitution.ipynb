{
  "nbformat": 4,
  "nbformat_minor": 0,
  "metadata": {
    "colab": {
      "name": "Regex Substitution.ipynb",
      "provenance": [],
      "authorship_tag": "ABX9TyNWsrRL7u6uotnjSFiRDFVI",
      "include_colab_link": true
    },
    "kernelspec": {
      "name": "python3",
      "display_name": "Python 3"
    }
  },
  "cells": [
    {
      "cell_type": "markdown",
      "metadata": {
        "id": "view-in-github",
        "colab_type": "text"
      },
      "source": [
        "<a href=\"https://colab.research.google.com/github/gitpushnjit/HackerRank-Practice-Python/blob/master/Regex_Substitution.ipynb\" target=\"_parent\"><img src=\"https://colab.research.google.com/assets/colab-badge.svg\" alt=\"Open In Colab\"/></a>"
      ]
    },
    {
      "cell_type": "markdown",
      "metadata": {
        "id": "5Hn0GJqes7u-",
        "colab_type": "text"
      },
      "source": [
        "You are given a text of N lines. The text contains && and || symbols.\n",
        "Your task is to modify those symbols to the following:\n",
        "&& → and || → or"
      ]
    },
    {
      "cell_type": "code",
      "metadata": {
        "id": "ivN0mFqxs5gg",
        "colab_type": "code",
        "colab": {
          "base_uri": "https://localhost:8080/",
          "height": 92
        },
        "outputId": "6e15af01-5f5a-4b5d-fb03-458b4cf0771b"
      },
      "source": [
        "import re\n",
        "print(\"First input number of expression(s) and then the expression(s) having && and || in it and then press ENTER:\")\n",
        "for _ in range(int(input())):\n",
        "    print(re.sub(r' [|]{2}(?= )', ' or', re.sub(r' [&]{2}(?= )', ' and', input())))"
      ],
      "execution_count": 13,
      "outputs": [
        {
          "output_type": "stream",
          "text": [
            "First input number of expression(s) and then the expression(s) having && and || in it and then press ENTER:\n",
            "1\n",
            "if year % 400 == 0 && year % 100 == 0 || year % 4 == 0: then year is leap.\n",
            "if year % 400 == 0 and year % 100 == 0 or year % 4 == 0: then year is leap.\n"
          ],
          "name": "stdout"
        }
      ]
    }
  ]
}