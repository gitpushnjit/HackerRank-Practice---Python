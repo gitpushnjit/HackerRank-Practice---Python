{
  "nbformat": 4,
  "nbformat_minor": 0,
  "metadata": {
    "colab": {
      "name": "Validating UID.ipynb",
      "provenance": [],
      "authorship_tag": "ABX9TyP0G15rNJP9vc8vP4nYCQH+",
      "include_colab_link": true
    },
    "kernelspec": {
      "name": "python3",
      "display_name": "Python 3"
    }
  },
  "cells": [
    {
      "cell_type": "markdown",
      "metadata": {
        "id": "view-in-github",
        "colab_type": "text"
      },
      "source": [
        "<a href=\"https://colab.research.google.com/github/gitpushnjit/HackerRank-Practice-Python/blob/master/Validating_UID.ipynb\" target=\"_parent\"><img src=\"https://colab.research.google.com/assets/colab-badge.svg\" alt=\"Open In Colab\"/></a>"
      ]
    },
    {
      "cell_type": "markdown",
      "metadata": {
        "id": "KpnOIFbp7PQc",
        "colab_type": "text"
      },
      "source": [
        "ABCXYZ company has up to 100 employees.\n",
        "\n",
        "The company decides to create a unique identification number (UID) for each of its employees.\n",
        "The company has assigned you the task of validating all the randomly generated UIDs.\n",
        "\n",
        "A valid UID must follow the rules below:\n",
        "* It must contain at least 2 uppercase English alphabet characters.\n",
        "* It must contain at least 3 digits (0 - 9).\n",
        "* It should only contain alphanumeric characters (a - z, A - Z & 0 - 9).\n",
        "* No character should repeat.\n",
        "* There must be exactly 10 characters in a valid UID."
      ]
    },
    {
      "cell_type": "code",
      "metadata": {
        "id": "T6a89lY7wtrY",
        "colab_type": "code",
        "colab": {
          "base_uri": "https://localhost:8080/",
          "height": 129
        },
        "outputId": "4c108042-204c-435b-a8ca-41670752084a"
      },
      "source": [
        "import re\n",
        "\n",
        "NoReps = r\"(?!.*(.).*\\1)\"\n",
        "Upper = r\"(.*[A-Z]){2,}\"\n",
        "Digits = r\"(.*\\d){3,}\"\n",
        "Alphanumerics = r\"[a-zA-Z0-9]{10}\"\n",
        "filters = NoReps, Upper, Digits, Alphanumerics\n",
        "\n",
        "print(\"Enter number of UIDs to check for and then Enter the UIDs :\")\n",
        "for uid in [input() for _ in range(int(input()))]:\n",
        "    if all(re.match(f, uid) for f in filters):\n",
        "        print(\"Valid\")\n",
        "    else:\n",
        "        print(\"Invalid \")"
      ],
      "execution_count": 4,
      "outputs": [
        {
          "output_type": "stream",
          "text": [
            "Enter number of UIDs to check for and then Enter the UIDs :\n",
            "2\n",
            "B1CD102354\n",
            "B1CDEF2354\n",
            "Invalid \n",
            "Valid\n"
          ],
          "name": "stdout"
        }
      ]
    }
  ]
}