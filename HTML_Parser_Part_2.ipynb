{
  "nbformat": 4,
  "nbformat_minor": 0,
  "metadata": {
    "colab": {
      "name": "HTML Parser - Part 2.ipynb",
      "provenance": [],
      "authorship_tag": "ABX9TyOrpBfUZBBIVr8AWq7RKfaD",
      "include_colab_link": true
    },
    "kernelspec": {
      "name": "python3",
      "display_name": "Python 3"
    }
  },
  "cells": [
    {
      "cell_type": "markdown",
      "metadata": {
        "id": "view-in-github",
        "colab_type": "text"
      },
      "source": [
        "<a href=\"https://colab.research.google.com/github/gitpushnjit/HackerRank-Practice-Python/blob/master/HTML_Parser_Part_2.ipynb\" target=\"_parent\"><img src=\"https://colab.research.google.com/assets/colab-badge.svg\" alt=\"Open In Colab\"/></a>"
      ]
    },
    {
      "cell_type": "markdown",
      "metadata": {
        "id": "XP-fLYtGiyfW",
        "colab_type": "text"
      },
      "source": [
        "You are given an HTML code snippet of N lines.\n",
        "\n",
        "Your task is to print the single-line comments, multi-line comments and the data.\n",
        "\n"
      ]
    },
    {
      "cell_type": "code",
      "metadata": {
        "id": "OnWt9JfUYmS8",
        "colab_type": "code",
        "colab": {
          "base_uri": "https://localhost:8080/",
          "height": 241
        },
        "outputId": "84dedabd-fa16-4b20-84f5-2ebb537e9999"
      },
      "source": [
        "from html.parser import HTMLParser\n",
        "\n",
        "class HtmlParser(HTMLParser):\n",
        "    def handle_comment(self,data):\n",
        "        if '\\n' in data:\n",
        "            print('>>> This is Multi-line Comment')\n",
        "            print(data)\n",
        "        else:\n",
        "            print('>>> This is Single-line Comment')\n",
        "            print(data)\n",
        "\n",
        "    def handle_data(self,data):\n",
        "        if data!='\\n':\n",
        "            print('>>> Data')\n",
        "            print(data)  \n",
        "html = \"\"       \n",
        "for i in range(int(input())):\n",
        "    html += input().rstrip()\n",
        "    html += '\\n'\n",
        "    \n",
        "parser = HtmlParser()\n",
        "parser.feed(html)\n",
        "parser.close()"
      ],
      "execution_count": 6,
      "outputs": [
        {
          "output_type": "stream",
          "text": [
            "4\n",
            "<!--[if IE 9]>IE9-specific content\n",
            "<![endif]-->\n",
            "<div> Hello World </div>\n",
            "<!--[if IE 9]>IE9-specific content<![endif]-->\n",
            ">>> This is Multi-line Comment\n",
            "[if IE 9]>IE9-specific content\n",
            "<![endif]\n",
            ">>> Data\n",
            " Hello World \n",
            ">>> This is Single-line Comment\n",
            "[if IE 9]>IE9-specific content<![endif]\n"
          ],
          "name": "stdout"
        }
      ]
    }
  ]
}