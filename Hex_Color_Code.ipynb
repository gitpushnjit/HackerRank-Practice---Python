{
  "nbformat": 4,
  "nbformat_minor": 0,
  "metadata": {
    "colab": {
      "name": "Hex Color Code.ipynb",
      "provenance": [],
      "authorship_tag": "ABX9TyOjfGA0/qfXYbgWNmiEyILa",
      "include_colab_link": true
    },
    "kernelspec": {
      "name": "python3",
      "display_name": "Python 3"
    }
  },
  "cells": [
    {
      "cell_type": "markdown",
      "metadata": {
        "id": "view-in-github",
        "colab_type": "text"
      },
      "source": [
        "<a href=\"https://colab.research.google.com/github/gitpushnjit/HackerRank-Practice-Python/blob/master/Hex_Color_Code.ipynb\" target=\"_parent\"><img src=\"https://colab.research.google.com/assets/colab-badge.svg\" alt=\"Open In Colab\"/></a>"
      ]
    },
    {
      "cell_type": "markdown",
      "metadata": {
        "id": "4pdpcFCrRysm",
        "colab_type": "text"
      },
      "source": [
        "CSS colors are defined using a hexadecimal (HEX) notation for the combination of Red, Green, and Blue color values (RGB).\n",
        "\n",
        "Specifications of HEX Color Code\n",
        "\n",
        "* It must start with a '#' symbol.\n",
        "* It can have 3 or 6 digits.\n",
        "* Each digit is in the range of 0 to F. (1,2,3,4,5,6,7,8,9,0,A,B,C,D,E and F).\n",
        "* A - F letters can be lower case. (a,b,c,d,e and f are also valid digits)."
      ]
    },
    {
      "cell_type": "code",
      "metadata": {
        "id": "ID8Q34QiRwLU",
        "colab_type": "code",
        "colab": {
          "base_uri": "https://localhost:8080/",
          "height": 148
        },
        "outputId": "3f4773c9-c24f-4244-852d-bae83c0489c7"
      },
      "source": [
        "import re\n",
        "print(\"Input the number of statement(s) and then the statement(s) :\")\n",
        "n = int(input())\n",
        "for i in range(n):\n",
        "    line = input()\n",
        "    result = re.findall(r'.(#[0-9A-Fa-f]{6}|#[0-9A-Fa-f]{3})',line)\n",
        "    if result:\n",
        "      print(\"Hex Color Codes in the above Statement :\")\n",
        "      print(*result,sep='\\n')"
      ],
      "execution_count": 16,
      "outputs": [
        {
          "output_type": "stream",
          "text": [
            "Input the number of statement(s) and then the statement(s) :\n",
            "1\n",
            "  #000000 is the code for Black, #FF0000 for Red,  #CD5C5C for Indian Red colors\n",
            "Hex Color Codes in the above Statement :\n",
            "#000000\n",
            "#FF0000\n",
            "#CD5C5C\n"
          ],
          "name": "stdout"
        }
      ]
    }
  ]
}