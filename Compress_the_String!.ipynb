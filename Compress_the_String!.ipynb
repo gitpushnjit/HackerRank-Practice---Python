{
  "nbformat": 4,
  "nbformat_minor": 0,
  "metadata": {
    "colab": {
      "name": "Compress the String!.ipynb",
      "provenance": [],
      "authorship_tag": "ABX9TyOntDXc+AxWHF+9x1lyq201",
      "include_colab_link": true
    },
    "kernelspec": {
      "name": "python3",
      "display_name": "Python 3"
    }
  },
  "cells": [
    {
      "cell_type": "markdown",
      "metadata": {
        "id": "view-in-github",
        "colab_type": "text"
      },
      "source": [
        "<a href=\"https://colab.research.google.com/github/gitpushnjit/HackerRank-Practice-Python/blob/master/Compress_the_String!.ipynb\" target=\"_parent\"><img src=\"https://colab.research.google.com/assets/colab-badge.svg\" alt=\"Open In Colab\"/></a>"
      ]
    },
    {
      "cell_type": "markdown",
      "metadata": {
        "id": "JN8JMQ8975A3",
        "colab_type": "text"
      },
      "source": [
        "In this task, we would like for you to appreciate the usefulness of the groupby() function of itertools . To read more about this function, Check this out .\n",
        "\n",
        "You are given a string S. Suppose a character 'c' occurs consecutively X times in the string. Replace these consecutive occurrences of the character 'c' with (X,c) in the string.\n",
        "\n",
        "For a better understanding of the problem, check the explanation."
      ]
    },
    {
      "cell_type": "code",
      "metadata": {
        "id": "baunwJRt7E7N",
        "colab_type": "code",
        "colab": {
          "base_uri": "https://localhost:8080/",
          "height": 54
        },
        "outputId": "80de0341-2183-4018-8b60-405414bcceaf"
      },
      "source": [
        "from itertools import groupby\n",
        "print(*[(len(list(c)), int(k)) for k, c in groupby(input())])"
      ],
      "execution_count": 1,
      "outputs": [
        {
          "output_type": "stream",
          "text": [
            "1222311\n",
            "(1, 1) (3, 2) (1, 3) (2, 1)\n"
          ],
          "name": "stdout"
        }
      ]
    }
  ]
}