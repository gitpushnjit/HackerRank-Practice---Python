{
  "nbformat": 4,
  "nbformat_minor": 0,
  "metadata": {
    "colab": {
      "name": "Set .symmetric_difference() Operation.ipynb",
      "provenance": [],
      "authorship_tag": "ABX9TyN/G5relgHUE8QQj6QQ5frL",
      "include_colab_link": true
    },
    "kernelspec": {
      "name": "python3",
      "display_name": "Python 3"
    }
  },
  "cells": [
    {
      "cell_type": "markdown",
      "metadata": {
        "id": "view-in-github",
        "colab_type": "text"
      },
      "source": [
        "<a href=\"https://colab.research.google.com/github/gitpushnjit/HackerRank-Practice-Python/blob/master/Set_symmetric_difference()_Operation.ipynb\" target=\"_parent\"><img src=\"https://colab.research.google.com/assets/colab-badge.svg\" alt=\"Open In Colab\"/></a>"
      ]
    },
    {
      "cell_type": "markdown",
      "metadata": {
        "id": "5uee3tbf1A2L",
        "colab_type": "text"
      },
      "source": [
        ".symmetric_difference()\n",
        "\n",
        "The .symmetric_difference() operator returns a set with all the elements that are in the set and the iterable but not both.\n",
        "Sometimes, a ^ operator is used in place of the .symmetric_difference() tool, but it only operates on the set of elements in set.\n",
        "The set is immutable to the .symmetric_difference() operation (or ^ operation).\n",
        "\n",
        "Students of District College have subscriptions to English and French newspapers. Some students have subscribed to English only, some have subscribed to French only, and some have subscribed to both newspapers.\n",
        "\n",
        "You are given two sets of student roll numbers. One set has subscribed to the English newspaper, and one set has subscribed to the French newspaper. Your task is to find the total number of students who have subscribed to either the English or the French newspaper but not both.\n",
        "\n",
        "**Input Format**\n",
        "\n",
        "* The first line contains the number of students who have subscribed to the English newspaper.\n",
        "* The second line contains the space separated list of student roll numbers who have subscribed to the English newspaper.\n",
        "* The third line contains the number of students who have subscribed to the French newspaper.\n",
        "* The fourth line contains the space separated list of student roll numbers who have subscribed to the French newspaper."
      ]
    },
    {
      "cell_type": "code",
      "metadata": {
        "id": "pUelAtUQy0BV",
        "colab_type": "code",
        "colab": {
          "base_uri": "https://localhost:8080/",
          "height": 204
        },
        "outputId": "0aacad77-4cce-4084-ee00-f4f82568bfaf"
      },
      "source": [
        "print(\"Print the number of elements in Set 1 :\")\n",
        "n1=int(input())\n",
        "print(\"Print the elements of Set 1:\")\n",
        "s1=set(map(int,input().split()))\n",
        "print(\"Print the number of elements in Set 2 :\")\n",
        "n2=int(input())\n",
        "print(\"Print the elements of Set 2:\")\n",
        "s2=set(map(int,input().split()))\n",
        "print(\"Difference :\")\n",
        "print(len((s1.difference(s2)).union(s2.difference(s1))))"
      ],
      "execution_count": 1,
      "outputs": [
        {
          "output_type": "stream",
          "text": [
            "Print the number of elements in Set 1 :\n",
            "9\n",
            "Print the elements of Set 1:\n",
            "1 2 3 4 5 6 7 8 9\n",
            "Print the number of elements in Set 2 :\n",
            "9\n",
            "Print the elements of Set 2:\n",
            "10 1 2 3 11 21 55 6 8\n",
            "Difference :\n",
            "8\n"
          ],
          "name": "stdout"
        }
      ]
    }
  ]
}