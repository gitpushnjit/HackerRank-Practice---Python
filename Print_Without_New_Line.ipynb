{
  "nbformat": 4,
  "nbformat_minor": 0,
  "metadata": {
    "colab": {
      "name": "Print Without New Line.ipynb",
      "provenance": [],
      "authorship_tag": "ABX9TyOq4+1Nq+DAWm6w1TNZpoGp",
      "include_colab_link": true
    },
    "kernelspec": {
      "name": "python3",
      "display_name": "Python 3"
    }
  },
  "cells": [
    {
      "cell_type": "markdown",
      "metadata": {
        "id": "view-in-github",
        "colab_type": "text"
      },
      "source": [
        "<a href=\"https://colab.research.google.com/github/gitpushnjit/HackerRank-Practice-Python/blob/master/Print_Without_New_Line.ipynb\" target=\"_parent\"><img src=\"https://colab.research.google.com/assets/colab-badge.svg\" alt=\"Open In Colab\"/></a>"
      ]
    },
    {
      "cell_type": "markdown",
      "metadata": {
        "id": "0hJhflaPkhU3",
        "colab_type": "text"
      },
      "source": [
        "Read an integer N.\n",
        "\n",
        "Without using any string methods, try to print the following:\n",
        "123...N\n",
        "\n",
        "Note that \"...\" represents the values in between."
      ]
    },
    {
      "cell_type": "code",
      "metadata": {
        "id": "Q1fa7aYqkgpK",
        "colab_type": "code",
        "colab": {
          "base_uri": "https://localhost:8080/",
          "height": 92
        },
        "outputId": "4c7b935c-0f18-4c7c-f879-05730482125e"
      },
      "source": [
        "print(\"Input:\")\n",
        "if __name__ == '__main__':\n",
        "    n = int(input())\n",
        "    \n",
        "    print(\"Output:\")\n",
        "    for i in range(1,n+1):\n",
        "        print(i,end=\"\")\n",
        "    "
      ],
      "execution_count": 6,
      "outputs": [
        {
          "output_type": "stream",
          "text": [
            "Input:\n",
            "9\n",
            "Output:\n",
            "123456789"
          ],
          "name": "stdout"
        }
      ]
    }
  ]
}