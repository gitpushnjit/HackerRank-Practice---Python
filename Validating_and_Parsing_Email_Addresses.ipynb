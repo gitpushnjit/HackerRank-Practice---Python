{
  "nbformat": 4,
  "nbformat_minor": 0,
  "metadata": {
    "colab": {
      "name": "Validating and Parsing Email Addresses.ipynb",
      "provenance": [],
      "authorship_tag": "ABX9TyPaeFijW8hchz0mR2QMSNo0",
      "include_colab_link": true
    },
    "kernelspec": {
      "name": "python3",
      "display_name": "Python 3"
    }
  },
  "cells": [
    {
      "cell_type": "markdown",
      "metadata": {
        "id": "view-in-github",
        "colab_type": "text"
      },
      "source": [
        "<a href=\"https://colab.research.google.com/github/gitpushnjit/HackerRank-Practice-Python/blob/master/Validating_and_Parsing_Email_Addresses.ipynb\" target=\"_parent\"><img src=\"https://colab.research.google.com/assets/colab-badge.svg\" alt=\"Open In Colab\"/></a>"
      ]
    },
    {
      "cell_type": "markdown",
      "metadata": {
        "id": "Vccp_S4EH-qM",
        "colab_type": "text"
      },
      "source": [
        "A valid email address meets the following criteria:\n",
        "\n",
        "* It's composed of a username, domain name, and extension assembled in this format: username@domain.extension\n",
        "* The username starts with an English alphabetical character, and any subsequent characters consist of one or more of the following: alphanumeric characters, -,., and _.\n",
        "* The domain and extension contain only English alphabetical characters.\n",
        "* The extension is 1, 2 or 3 characters in length.\n",
        "\n",
        "Given n pairs of names and email addresses as input, print each name and email address pair having a valid email address on a new line."
      ]
    },
    {
      "cell_type": "code",
      "metadata": {
        "id": "7R-Uw9p_UE5b",
        "colab_type": "code",
        "outputId": "457e3f72-a321-4cbe-8a90-56c4aaabd60e",
        "colab": {
          "base_uri": "https://localhost:8080/",
          "height": 185
        }
      },
      "source": [
        "import re\n",
        "import email.utils\n",
        "regex=r'[a-z][a-z0-9\\.\\_\\-]*@[a-z]+\\.[a-z]{1,3}$'\n",
        "print(\"Input number of Email Addresses you want to validate :\")\n",
        "for _ in range(int(input())):\n",
        "  print(\"Enter Email address\")\n",
        "  val=email.utils.parseaddr(input())\n",
        "  if bool(re.match(regex,val[1],re.IGNORECASE)):\n",
        "    print(email.utils.formataddr(val))\n",
        "    print(\"Valid Email Address\")\n",
        "  else:\n",
        "    print(\"Error..!\")    "
      ],
      "execution_count": 8,
      "outputs": [
        {
          "output_type": "stream",
          "text": [
            "Input number of Email Addresses you want to validate :\n",
            "2\n",
            "Enter Email address\n",
            "ABC<abc.def@email.com>\n",
            "ABC <abc.def@email.com>\n",
            "Valid Email Address\n",
            "Enter Email address\n",
            "RANDOM <random!@random.:p>\n",
            "Error..!\n"
          ],
          "name": "stdout"
        }
      ]
    }
  ]
}