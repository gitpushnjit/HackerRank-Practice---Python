{
  "nbformat": 4,
  "nbformat_minor": 0,
  "metadata": {
    "colab": {
      "name": "The Captain's Room.ipynb",
      "provenance": [],
      "authorship_tag": "ABX9TyOWPmIm3Rw0UTqd8x8+We3O",
      "include_colab_link": true
    },
    "kernelspec": {
      "name": "python3",
      "display_name": "Python 3"
    }
  },
  "cells": [
    {
      "cell_type": "markdown",
      "metadata": {
        "id": "view-in-github",
        "colab_type": "text"
      },
      "source": [
        "<a href=\"https://colab.research.google.com/github/gitpushnjit/HackerRank-Practice-Python/blob/master/The_Captain's_Room.ipynb\" target=\"_parent\"><img src=\"https://colab.research.google.com/assets/colab-badge.svg\" alt=\"Open In Colab\"/></a>"
      ]
    },
    {
      "cell_type": "markdown",
      "metadata": {
        "id": "y-qWkusMAnJM",
        "colab_type": "text"
      },
      "source": [
        "Mr. Anant Asankhya is the manager at the INFINITE hotel. The hotel has an infinite amount of rooms.\n",
        "\n",
        "One fine day, a finite number of tourists come to stay at the hotel.\n",
        "The tourists consist of:\n",
        "\n",
        "→ A Captain.\n",
        "\n",
        "→ An unknown group of families consisting of K members per group where K ≠ 1.\n",
        "\n",
        "The Captain was given a separate room, and the rest were given one room per group.\n",
        "\n",
        "Mr. Anant has an unordered list of randomly arranged room entries. The list consists of the room numbers for all of the tourists. The room numbers will appear K times per group except for the Captain's room.\n",
        "\n",
        "Mr. Anant needs you to help him find the Captain's room number.\n",
        "The total number of tourists or the total number of groups of families is not known to you.\n",
        "You only know the value of K and the room number list.\n",
        "\n",
        " **In the example below, the list of room numbers contains 31 elements. Since K is 5, there must be 6 groups of families. In the given list, all of the numbers repeat 5 times except for room number 8.\n",
        "Hence, 8 is the Captain's room number.** "
      ]
    },
    {
      "cell_type": "code",
      "metadata": {
        "id": "kmSXjIT45Xed",
        "colab_type": "code",
        "colab": {
          "base_uri": "https://localhost:8080/",
          "height": 92
        },
        "outputId": "152a28a2-f5de-45b2-b534-abfa8e4a575d"
      },
      "source": [
        "print(\"Enter the size of the group and then list of room numbers to see Captain's room:\")\n",
        "k = int(input())\n",
        "L = str(input()).split(\" \")\n",
        "family = L\n",
        "total = set(L)\n",
        "for r in set(L):\n",
        "    try:\n",
        "        family.remove(r)\n",
        "    except:\n",
        "        pass\n",
        "print (\"\".join((total - set(family))))"
      ],
      "execution_count": 10,
      "outputs": [
        {
          "output_type": "stream",
          "text": [
            "Enter the size of the group and then list of room numbers to see Captain's room:\n",
            "5\n",
            "1 2 3 6 5 4 4 2 5 3 6 1 6 5 3 2 4 1 2 5 1 4 3 6 8 4 3 1 5 6 2 \n",
            "8\n"
          ],
          "name": "stdout"
        }
      ]
    }
  ]
}