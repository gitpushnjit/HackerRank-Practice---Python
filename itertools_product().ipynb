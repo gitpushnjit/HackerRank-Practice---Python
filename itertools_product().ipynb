{
  "nbformat": 4,
  "nbformat_minor": 0,
  "metadata": {
    "colab": {
      "name": "itertools.product().ipynb",
      "provenance": [],
      "authorship_tag": "ABX9TyOcUTLsJLoxabc0D4bUSZfB",
      "include_colab_link": true
    },
    "kernelspec": {
      "name": "python3",
      "display_name": "Python 3"
    }
  },
  "cells": [
    {
      "cell_type": "markdown",
      "metadata": {
        "id": "view-in-github",
        "colab_type": "text"
      },
      "source": [
        "<a href=\"https://colab.research.google.com/github/gitpushnjit/HackerRank-Practice-Python/blob/master/itertools_product().ipynb\" target=\"_parent\"><img src=\"https://colab.research.google.com/assets/colab-badge.svg\" alt=\"Open In Colab\"/></a>"
      ]
    },
    {
      "cell_type": "markdown",
      "metadata": {
        "id": "2IC5wfyNno-I",
        "colab_type": "text"
      },
      "source": [
        "itertools.product()\n",
        "\n",
        "This tool computes the cartesian product of input iterables.\n",
        "It is equivalent to nested for-loops.\n",
        "For example, product(A, B) returns the same as ((x,y) for x in A for y in B).\n",
        "\n",
        "You are given a two lists A and B. Your task is to compute their cartesian product A X B."
      ]
    },
    {
      "cell_type": "code",
      "metadata": {
        "id": "8oAxCQ4TnMKH",
        "colab_type": "code",
        "colab": {
          "base_uri": "https://localhost:8080/",
          "height": 73
        },
        "outputId": "47a9e845-6919-41da-c725-62f8cd64b755"
      },
      "source": [
        "import itertools\n",
        "\n",
        "A = [int(x) for x in input().split()]\n",
        "B = [int(y) for y in input().split()]\n",
        "\n",
        "print(*itertools.product(A, B))"
      ],
      "execution_count": 3,
      "outputs": [
        {
          "output_type": "stream",
          "text": [
            "1 2 3\n",
            "4 5 6\n",
            "(1, 4) (1, 5) (1, 6) (2, 4) (2, 5) (2, 6) (3, 4) (3, 5) (3, 6)\n"
          ],
          "name": "stdout"
        }
      ]
    }
  ]
}