{
  "nbformat": 4,
  "nbformat_minor": 0,
  "metadata": {
    "colab": {
      "name": "Validating Postal Codes.ipynb",
      "provenance": [],
      "authorship_tag": "ABX9TyN3FA0mvPpYp6u+cjpJ5AmL",
      "include_colab_link": true
    },
    "kernelspec": {
      "name": "python3",
      "display_name": "Python 3"
    }
  },
  "cells": [
    {
      "cell_type": "markdown",
      "metadata": {
        "id": "view-in-github",
        "colab_type": "text"
      },
      "source": [
        "<a href=\"https://colab.research.google.com/github/gitpushnjit/HackerRank-Practice-Python/blob/master/Validating_Postal_Codes.ipynb\" target=\"_parent\"><img src=\"https://colab.research.google.com/assets/colab-badge.svg\" alt=\"Open In Colab\"/></a>"
      ]
    },
    {
      "cell_type": "markdown",
      "metadata": {
        "id": "kYE0fAInZJ0F",
        "colab_type": "text"
      },
      "source": [
        "A valid postal code P have to fullfil both below requirements:\n",
        "\n",
        "* P must be a number in the range from 100000 to 999999 inclusive.\n",
        "* P must not contain more than one alternating repetitive digit pair.\n",
        "\n",
        "Alternating repetitive digits are digits which repeat immediately after the next digit. In other words, an alternating repetitive digit pair is formed by two equal digits that have just a single digit between them.\n",
        "\n",
        "Your task is to provide two regular expressions regex_integer_in_range and regex_alternating_repetitive_digit_pair. Where:\n",
        "\n",
        "regex_integer_in_range should match only integers range from 100000 to 999999 inclusive\n",
        "\n",
        "regex_alternating_repetitive_digit_pair should find alternating repetitive digits pairs in a given string."
      ]
    },
    {
      "cell_type": "code",
      "metadata": {
        "id": "4DGLji9lXoPS",
        "colab_type": "code",
        "colab": {
          "base_uri": "https://localhost:8080/",
          "height": 73
        },
        "outputId": "88bd7bfd-1a96-482f-9d3d-c4fe87bf537c"
      },
      "source": [
        "import re\n",
        "print(\"Print a Postal Code to be validated : \")\n",
        "P = input()\n",
        "\n",
        "regex_integer_in_range = r\"^[1-9]\\d{5}$\"\t# Do not delete 'r'.\n",
        "regex_alternating_repetitive_digit_pair = r\"(.)(?=.\\1)\"\t# Do not delete 'r'.\n",
        "\n",
        "print (bool(re.match(regex_integer_in_range, P)) \n",
        "and len(re.findall(regex_alternating_repetitive_digit_pair, P)) < 2)"
      ],
      "execution_count": 16,
      "outputs": [
        {
          "output_type": "stream",
          "text": [
            "Print a Postal Code to be validated : \n",
            "321654\n",
            "True\n"
          ],
          "name": "stdout"
        }
      ]
    }
  ]
}