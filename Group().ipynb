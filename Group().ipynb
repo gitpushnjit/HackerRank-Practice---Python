{
  "nbformat": 4,
  "nbformat_minor": 0,
  "metadata": {
    "colab": {
      "name": "Group().ipynb",
      "provenance": [],
      "authorship_tag": "ABX9TyO7mKznoZpK/kt2JcL6GSj7",
      "include_colab_link": true
    },
    "kernelspec": {
      "name": "python3",
      "display_name": "Python 3"
    }
  },
  "cells": [
    {
      "cell_type": "markdown",
      "metadata": {
        "id": "view-in-github",
        "colab_type": "text"
      },
      "source": [
        "<a href=\"https://colab.research.google.com/github/gitpushnjit/HackerRank-Practice-Python/blob/master/Group().ipynb\" target=\"_parent\"><img src=\"https://colab.research.google.com/assets/colab-badge.svg\" alt=\"Open In Colab\"/></a>"
      ]
    },
    {
      "cell_type": "markdown",
      "metadata": {
        "id": "O6F1QqHWI9Tj",
        "colab_type": "text"
      },
      "source": [
        "You are given a string S.\n",
        "Your task is to find the first occurrence of an alphanumeric character in  S (read from left to right) that has consecutive repetitions."
      ]
    },
    {
      "cell_type": "code",
      "metadata": {
        "id": "t8LcsrEFI8hG",
        "colab_type": "code",
        "colab": {
          "base_uri": "https://localhost:8080/",
          "height": 54
        },
        "outputId": "81a67175-1f96-4973-a059-6516eaeb4ba3"
      },
      "source": [
        "import re\n",
        "a = re.search(r\"([a-z0-9])\\1+\", input())\n",
        "print(a.group(1) if a else print(\"No Repeatitions\"))"
      ],
      "execution_count": 16,
      "outputs": [
        {
          "output_type": "stream",
          "text": [
            "3255khghfku788576\n",
            "5\n"
          ],
          "name": "stdout"
        }
      ]
    }
  ]
}