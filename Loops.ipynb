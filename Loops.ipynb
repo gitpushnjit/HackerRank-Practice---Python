{
  "nbformat": 4,
  "nbformat_minor": 0,
  "metadata": {
    "colab": {
      "name": "Loops.ipynb",
      "provenance": [],
      "authorship_tag": "ABX9TyOhlMG1yOH6QiwQLOEAR0r2",
      "include_colab_link": true
    },
    "kernelspec": {
      "name": "python3",
      "display_name": "Python 3"
    }
  },
  "cells": [
    {
      "cell_type": "markdown",
      "metadata": {
        "id": "view-in-github",
        "colab_type": "text"
      },
      "source": [
        "<a href=\"https://colab.research.google.com/github/gitpushnjit/HackerRank-Practice-Python/blob/master/Loops.ipynb\" target=\"_parent\"><img src=\"https://colab.research.google.com/assets/colab-badge.svg\" alt=\"Open In Colab\"/></a>"
      ]
    },
    {
      "cell_type": "markdown",
      "metadata": {
        "id": "Va9J0qhrKAW4",
        "colab_type": "text"
      },
      "source": [
        "Read an integer N. For all non-negative integers i < N , print i^2. (Square of i)"
      ]
    },
    {
      "cell_type": "code",
      "metadata": {
        "id": "TUzIpdXBJ9es",
        "colab_type": "code",
        "colab": {
          "base_uri": "https://localhost:8080/",
          "height": 185
        },
        "outputId": "cfaac609-484a-425c-f7d9-4f192d33cd09"
      },
      "source": [
        "print(\"Input:\")\n",
        "if __name__ == '__main__':\n",
        "    n = int(input())\n",
        "    print(\"Output:\")\n",
        "    for i in range(0,n):\n",
        "        print(i*i)"
      ],
      "execution_count": 2,
      "outputs": [
        {
          "output_type": "stream",
          "text": [
            "Input:\n",
            "6\n",
            "Output:\n",
            "0\n",
            "1\n",
            "4\n",
            "9\n",
            "16\n",
            "25\n"
          ],
          "name": "stdout"
        }
      ]
    }
  ]
}