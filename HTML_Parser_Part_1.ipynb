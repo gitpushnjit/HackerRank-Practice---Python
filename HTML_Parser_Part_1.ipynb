{
  "nbformat": 4,
  "nbformat_minor": 0,
  "metadata": {
    "colab": {
      "name": "HTML Parser - Part 1.ipynb",
      "provenance": [],
      "authorship_tag": "ABX9TyPjsGQ4RC+eyKVMxMoePm5H",
      "include_colab_link": true
    },
    "kernelspec": {
      "name": "python3",
      "display_name": "Python 3"
    }
  },
  "cells": [
    {
      "cell_type": "markdown",
      "metadata": {
        "id": "view-in-github",
        "colab_type": "text"
      },
      "source": [
        "<a href=\"https://colab.research.google.com/github/gitpushnjit/HackerRank-Practice-Python/blob/master/HTML_Parser_Part_1.ipynb\" target=\"_parent\"><img src=\"https://colab.research.google.com/assets/colab-badge.svg\" alt=\"Open In Colab\"/></a>"
      ]
    },
    {
      "cell_type": "markdown",
      "metadata": {
        "id": "3ug2yhJmUHNN",
        "colab_type": "text"
      },
      "source": [
        "Hypertext Markup Language is a standard markup language used for creating World Wide Web pages.\n",
        "\n",
        "Parsing is the process of syntactic analysis of a string of symbols. It involves resolving a string into its component parts and describing their syntactic roles.\n",
        "\n",
        "An HTMLParser instance is fed HTML data and calls handler methods when start tags, end tags, text, comments, and other markup elements are encountered.\n",
        "\n",
        "You are given an HTML code snippet of  lines.\n",
        "Your task is to print start tags, end tags and empty tags separately."
      ]
    },
    {
      "cell_type": "code",
      "metadata": {
        "id": "sleJwLtkjdid",
        "colab_type": "code",
        "colab": {
          "base_uri": "https://localhost:8080/",
          "height": 298
        },
        "outputId": "558dfb7c-5dde-4f64-8d55-0f7de7b5027a"
      },
      "source": [
        "from html.parser import HTMLParser\n",
        "\n",
        "class HtmlParser(HTMLParser):\n",
        "    def handle_starttag(self,tag,attrs):\n",
        "        print('Found Start :', tag)\n",
        "        if attrs:\n",
        "            for attr in attrs:\n",
        "                print('-> {} > {}'.format(attr[0], attr[1]) )\n",
        "    def handle_endtag(self,tag):\n",
        "        print('Found End   :', tag)\n",
        "    def handle_startendtag(self,tag,attrs):\n",
        "        print('Empty :', tag)\n",
        "        if attrs:\n",
        "            for attr in attrs:\n",
        "                print('-> {} > {}'.format(attr[0], attr[1]))\n",
        "\n",
        "Input = int(input())\n",
        "\n",
        "html_data = ''\n",
        "for _ in range(Input):\n",
        "    curr_line = input()\n",
        "    html_data += curr_line\n",
        "\n",
        "parser = HtmlParser()\n",
        "parser.feed(html_data)"
      ],
      "execution_count": 4,
      "outputs": [
        {
          "output_type": "stream",
          "text": [
            "1\n",
            "<html><head><title>HTML Parser - I</title></head> <body data-modal-target class='1'><h1>HackerRank</h1><br /></body></html>\n",
            "Found Start : html\n",
            "Found Start : head\n",
            "Found Start : title\n",
            "Found End   : title\n",
            "Found End   : head\n",
            "Found Start : body\n",
            "-> data-modal-target > None\n",
            "-> class > 1\n",
            "Found Start : h1\n",
            "Found End   : h1\n",
            "Empty : br\n",
            "Found End   : body\n",
            "Found End   : html\n"
          ],
          "name": "stdout"
        }
      ]
    }
  ]
}