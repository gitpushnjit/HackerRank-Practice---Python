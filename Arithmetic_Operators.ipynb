{
  "nbformat": 4,
  "nbformat_minor": 0,
  "metadata": {
    "colab": {
      "name": "Arithmetic Operators",
      "provenance": [],
      "authorship_tag": "ABX9TyONNkgpk1vw836L1Aoi57uR",
      "include_colab_link": true
    },
    "kernelspec": {
      "name": "python3",
      "display_name": "Python 3"
    }
  },
  "cells": [
    {
      "cell_type": "markdown",
      "metadata": {
        "id": "view-in-github",
        "colab_type": "text"
      },
      "source": [
        "<a href=\"https://colab.research.google.com/github/gitpushnjit/HackerRank-Practice-Python/blob/master/Arithmetic_Operators.ipynb\" target=\"_parent\"><img src=\"https://colab.research.google.com/assets/colab-badge.svg\" alt=\"Open In Colab\"/></a>"
      ]
    },
    {
      "cell_type": "markdown",
      "metadata": {
        "id": "yBq2TVo0X_Xk",
        "colab_type": "text"
      },
      "source": [
        "Read two integers from STDIN and print three lines where:\n",
        "\n",
        "* The first line contains the sum of the two numbers.\n",
        "* The second line contains the difference of the two numbers (first - second).\n",
        "* The third line contains the product of the two numbers."
      ]
    },
    {
      "cell_type": "code",
      "metadata": {
        "id": "aXhJKQp7YIJT",
        "colab_type": "code",
        "colab": {
          "base_uri": "https://localhost:8080/",
          "height": 148
        },
        "outputId": "a1f8c062-424d-4e23-8590-1af49cb02895"
      },
      "source": [
        "print(\"Input:\")\n",
        "if __name__ == '__main__':\n",
        "    a = int(input())\n",
        "    b = int(input())\n",
        "\n",
        "    print(\"Output:\")\n",
        "    print(\"Sum is : {}\".format(a+b))\n",
        "    print(\"Difference is : {}\".format(a-b))\n",
        "    print(\"Product is : {}\".format(a*b))"
      ],
      "execution_count": 8,
      "outputs": [
        {
          "output_type": "stream",
          "text": [
            "Input:\n",
            "6\n",
            "2\n",
            "Output:\n",
            "Sum is : 8\n",
            "Difference is : 4\n",
            "Product is : 12\n"
          ],
          "name": "stdout"
        }
      ]
    }
  ]
}