{
  "nbformat": 4,
  "nbformat_minor": 0,
  "metadata": {
    "colab": {
      "name": "itertools.permutations().ipynb",
      "provenance": [],
      "authorship_tag": "ABX9TyMBiA0j9EEwoqPck/4FA5sT",
      "include_colab_link": true
    },
    "kernelspec": {
      "name": "python3",
      "display_name": "Python 3"
    }
  },
  "cells": [
    {
      "cell_type": "markdown",
      "metadata": {
        "id": "view-in-github",
        "colab_type": "text"
      },
      "source": [
        "<a href=\"https://colab.research.google.com/github/gitpushnjit/HackerRank-Practice-Python/blob/master/itertools_permutations().ipynb\" target=\"_parent\"><img src=\"https://colab.research.google.com/assets/colab-badge.svg\" alt=\"Open In Colab\"/></a>"
      ]
    },
    {
      "cell_type": "markdown",
      "metadata": {
        "id": "ayQohq0tTsdQ",
        "colab_type": "text"
      },
      "source": [
        "itertools.permutations(iterable[, r])\n",
        "\n",
        "This tool returns successive *r* length permutations of elements in an iterable.\n",
        "\n",
        "If *r* is not specified or is None, then *r* defaults to the length of the iterable, and all possible full length permutations are generated.\n",
        "\n",
        "Permutations are printed in a lexicographic sorted order. So, if the input iterable is sorted, the permutation tuples will be produced in a sorted order.\n",
        "\n",
        "You are given a string *a*.\n",
        "\n",
        "Your task is to print all possible permutations of size *b* of the string in lexicographic sorted order."
      ]
    },
    {
      "cell_type": "code",
      "metadata": {
        "id": "NdwAajtERrcT",
        "colab_type": "code",
        "colab": {
          "base_uri": "https://localhost:8080/",
          "height": 167
        },
        "outputId": "b1867403-8d2e-4f47-8dd8-15bdcd8388e6"
      },
      "source": [
        "from itertools import permutations\n",
        "print(\"Input a word and the number of letters you want it to be split :\")\n",
        "a,b = input().split()\n",
        "print(*[''.join(i) for i in permutations(sorted(a),int(b))],sep='\\n')"
      ],
      "execution_count": 6,
      "outputs": [
        {
          "output_type": "stream",
          "text": [
            "Input a word and the number of letters you want it to be split :\n",
            "fox 2\n",
            "fo\n",
            "fx\n",
            "of\n",
            "ox\n",
            "xf\n",
            "xo\n"
          ],
          "name": "stdout"
        }
      ]
    }
  ]
}