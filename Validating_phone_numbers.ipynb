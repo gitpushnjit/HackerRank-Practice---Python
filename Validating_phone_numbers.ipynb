{
  "nbformat": 4,
  "nbformat_minor": 0,
  "metadata": {
    "colab": {
      "name": "Validating phone numbers.ipynb",
      "provenance": [],
      "authorship_tag": "ABX9TyOuHAqs02Gj5+2CHLXodQpZ",
      "include_colab_link": true
    },
    "kernelspec": {
      "name": "python3",
      "display_name": "Python 3"
    }
  },
  "cells": [
    {
      "cell_type": "markdown",
      "metadata": {
        "id": "view-in-github",
        "colab_type": "text"
      },
      "source": [
        "<a href=\"https://colab.research.google.com/github/gitpushnjit/HackerRank-Practice-Python/blob/master/Validating_phone_numbers.ipynb\" target=\"_parent\"><img src=\"https://colab.research.google.com/assets/colab-badge.svg\" alt=\"Open In Colab\"/></a>"
      ]
    },
    {
      "cell_type": "markdown",
      "metadata": {
        "id": "5io7VPiAtwLU",
        "colab_type": "text"
      },
      "source": [
        "You are given some input, and you are required to check whether they are valid mobile numbers.\n",
        "\n",
        "A valid mobile number is a ten digit number starting with a 7, 8 or 9."
      ]
    },
    {
      "cell_type": "code",
      "metadata": {
        "id": "rvixebD8PJWt",
        "colab_type": "code",
        "colab": {
          "base_uri": "https://localhost:8080/",
          "height": 298
        },
        "outputId": "5e0839c5-0155-4090-b235-f0bf814b2f3b"
      },
      "source": [
        "print(\"Input the number of Phone Numbers you want to validate :\")\n",
        "Input = int(input())\n",
        "print(\"Enter the Phone Numbers :\")\n",
        "for i in range(Input):\n",
        "  print(\"Phone Number {}\".format(i+1))\n",
        "  strn  = input()\n",
        "  if(len(strn)==10 and strn[0] in ['9', '8', '7'] and strn.isnumeric()):\n",
        "    print(\"YES\")\n",
        "  else:\n",
        "    print(\"NO\")"
      ],
      "execution_count": 14,
      "outputs": [
        {
          "output_type": "stream",
          "text": [
            "Input the number of Phone Numbers you want to validate :\n",
            "4\n",
            "Enter the Phone Numbers :\n",
            "Phone Number 1\n",
            "7324560987\n",
            "YES\n",
            "Phone Number 2\n",
            "765g689123\n",
            "NO\n",
            "Phone Number 3\n",
            "987\n",
            "NO\n",
            "Phone Number 4\n",
            "2019876543\n",
            "NO\n"
          ],
          "name": "stdout"
        }
      ]
    }
  ]
}