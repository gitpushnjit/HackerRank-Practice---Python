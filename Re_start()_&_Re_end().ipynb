{
  "nbformat": 4,
  "nbformat_minor": 0,
  "metadata": {
    "colab": {
      "name": "Re.start() & Re.end().ipynb",
      "provenance": [],
      "authorship_tag": "ABX9TyPMw0Tcrm09Pap2ec7Qao+R",
      "include_colab_link": true
    },
    "kernelspec": {
      "name": "python3",
      "display_name": "Python 3"
    }
  },
  "cells": [
    {
      "cell_type": "markdown",
      "metadata": {
        "id": "view-in-github",
        "colab_type": "text"
      },
      "source": [
        "<a href=\"https://colab.research.google.com/github/gitpushnjit/HackerRank-Practice-Python/blob/master/Re_start()_%26_Re_end().ipynb\" target=\"_parent\"><img src=\"https://colab.research.google.com/assets/colab-badge.svg\" alt=\"Open In Colab\"/></a>"
      ]
    },
    {
      "cell_type": "markdown",
      "metadata": {
        "id": "PHWNaKRttGzU",
        "colab_type": "text"
      },
      "source": [
        "You are given a string S.\n",
        "Your task is to find the indices of the start and end of string k in S."
      ]
    },
    {
      "cell_type": "code",
      "metadata": {
        "id": "2r4ny54EtF2n",
        "colab_type": "code",
        "colab": {
          "base_uri": "https://localhost:8080/",
          "height": 167
        },
        "outputId": "dae681aa-345a-4da1-ac55-55c709a2266e"
      },
      "source": [
        "import re\n",
        "print(\"Input a String and press ENTER : \")\n",
        "S=input()\n",
        "print(\"Enter a Substring from the String entered above and press ENTER : \")\n",
        "k = input()\n",
        "if not re.search(k, S):\n",
        "    print('(-1, -1)')\n",
        "else:\n",
        "    i = 0\n",
        "    while re.search(k, S[i:]):\n",
        "        i += re.search(k, S[i:]).start() + 1\n",
        "        print(\"** Indexing starts at 0 **.\")\n",
        "        print('(', i-1, ',', i+len(k)-2, ')', sep='')\n",
        "        print('Your SubString starts at index ', i-1, '\\nSubString ends at index ', i+len(k)-2, '.', sep='')"
      ],
      "execution_count": 10,
      "outputs": [
        {
          "output_type": "stream",
          "text": [
            "Input a String and press ENTER : \n",
            "Rnadom Text\n",
            "Enter a Substring from the String entered above and press ENTER : \n",
            "om Te\n",
            "** Indexing starts at 0 **.\n",
            "(4,8)\n",
            "Your SubString starts at index 4\n",
            "SubString ends at index 8.\n"
          ],
          "name": "stdout"
        }
      ]
    }
  ]
}