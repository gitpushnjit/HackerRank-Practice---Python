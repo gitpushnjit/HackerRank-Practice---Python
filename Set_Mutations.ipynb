{
  "nbformat": 4,
  "nbformat_minor": 0,
  "metadata": {
    "colab": {
      "name": "Set Mutations.ipynb",
      "provenance": [],
      "authorship_tag": "ABX9TyMqdf0vN3QcYguYQRxwtLNO",
      "include_colab_link": true
    },
    "kernelspec": {
      "name": "python3",
      "display_name": "Python 3"
    }
  },
  "cells": [
    {
      "cell_type": "markdown",
      "metadata": {
        "id": "view-in-github",
        "colab_type": "text"
      },
      "source": [
        "<a href=\"https://colab.research.google.com/github/gitpushnjit/HackerRank-Practice-Python/blob/master/Set_Mutations.ipynb\" target=\"_parent\"><img src=\"https://colab.research.google.com/assets/colab-badge.svg\" alt=\"Open In Colab\"/></a>"
      ]
    },
    {
      "cell_type": "markdown",
      "metadata": {
        "id": "Us5ZJqY2oiBQ",
        "colab_type": "text"
      },
      "source": [
        "You are given a set A and N number of other sets. These N number of sets have to perform some specific mutation operations on set A.\n",
        "\n",
        "Your task is to execute those operations and print the sum of elements from set A."
      ]
    },
    {
      "cell_type": "code",
      "metadata": {
        "id": "NPH_-q8C7kqw",
        "colab_type": "code",
        "colab": {
          "base_uri": "https://localhost:8080/",
          "height": 241
        },
        "outputId": "68f0276c-de36-4e83-85ba-818d396eec40"
      },
      "source": [
        "def Myhandler(a):\n",
        "    com = input().split()[0]\n",
        "    new_set = set(map(int, input().split()))\n",
        "    if com == 'intersection_update':\n",
        "        a.intersection_update(new_set)\n",
        "    if com == 'update':\n",
        "        a.update(new_set)\n",
        "    if com == 'symmetric_difference_update':\n",
        "        a.symmetric_difference_update(new_set)\n",
        "    if com == 'difference_update':\n",
        "        a.difference_update(new_set)\n",
        "\n",
        "\n",
        "_, a = input(), set(map(int, input().split()))\n",
        "for i in range(int(input())):\n",
        "    Myhandler(a)\n",
        "print(sum(a))"
      ],
      "execution_count": 1,
      "outputs": [
        {
          "output_type": "stream",
          "text": [
            "16\n",
            "1 2 3 4 5 6 7 8 9 10 11 12 13 14 24 52\n",
            "4\n",
            "intersection_update 10\n",
            "2 3 5 6 8 9 1 4 7 11\n",
            "update 2\n",
            "55 66\n",
            "symmetric_difference_update 5\n",
            "22 7 35 62 58\n",
            "difference_update 7\n",
            "11 22 35 55 58 62 66\n",
            "38\n"
          ],
          "name": "stdout"
        }
      ]
    }
  ]
}