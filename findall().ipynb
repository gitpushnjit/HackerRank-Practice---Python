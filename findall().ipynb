{
  "nbformat": 4,
  "nbformat_minor": 0,
  "metadata": {
    "colab": {
      "name": "findall().ipynb",
      "provenance": [],
      "authorship_tag": "ABX9TyM7hT9N++kwKE866lfmc9OM",
      "include_colab_link": true
    },
    "kernelspec": {
      "name": "python3",
      "display_name": "Python 3"
    }
  },
  "cells": [
    {
      "cell_type": "markdown",
      "metadata": {
        "id": "view-in-github",
        "colab_type": "text"
      },
      "source": [
        "<a href=\"https://colab.research.google.com/github/gitpushnjit/HackerRank-Practice-Python/blob/master/findall().ipynb\" target=\"_parent\"><img src=\"https://colab.research.google.com/assets/colab-badge.svg\" alt=\"Open In Colab\"/></a>"
      ]
    },
    {
      "cell_type": "markdown",
      "metadata": {
        "id": "77n2lcXV7kak",
        "colab_type": "text"
      },
      "source": [
        "You are given a string S. It consists of alphanumeric characters, spaces and symbols(+,-).\n",
        "Your task is to find all the substrings of S that contains 2 or more vowels.\n",
        "Also, these substrings must lie in between 2 consonants and should contain vowels only.\n",
        "\n",
        "Note :\n",
        "Vowels are defined as: AEIOU and aeiou.\n",
        "Consonants are defined as: QWRTYPSDFGHJKLZXCVBNM and qwrtypsdfghjklzxcvbnm."
      ]
    },
    {
      "cell_type": "code",
      "metadata": {
        "id": "eSjpLrI_7iNC",
        "colab_type": "code",
        "colab": {
          "base_uri": "https://localhost:8080/",
          "height": 260
        },
        "outputId": "a9a48656-1b16-415d-b063-433e6ce36e9e"
      },
      "source": [
        "import re\n",
        "\n",
        "V = 'aeiou'\n",
        "Const = 'bcdfghjklmnpqrstvwxyz'\n",
        "Regex = '(?<=[' + Const + '])([' + V + ']{2,})[' + Const + ']'\n",
        "\n",
        "print(\"Ente a String or a sentence and then press ENTER:\")\n",
        "FindMatch = re.findall(Regex, input(), re.IGNORECASE)\n",
        "if FindMatch:\n",
        "    print(*FindMatch, sep='\\n')\n",
        "else:\n",
        "    print('No match')"
      ],
      "execution_count": 13,
      "outputs": [
        {
          "output_type": "stream",
          "text": [
            "Ente a String or a sentence and then press ENTER:\n",
            "Thirteen people went out to a special and beautiful restaurant in Mumbai near the beach on a rainy day sat on wooden chair and laughed. \n",
            "ee\n",
            "eo\n",
            "ia\n",
            "eau\n",
            "au\n",
            "ea\n",
            "ea\n",
            "ai\n",
            "oo\n",
            "ai\n",
            "au\n"
          ],
          "name": "stdout"
        }
      ]
    }
  ]
}