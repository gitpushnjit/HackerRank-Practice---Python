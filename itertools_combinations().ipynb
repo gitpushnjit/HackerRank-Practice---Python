{
  "nbformat": 4,
  "nbformat_minor": 0,
  "metadata": {
    "colab": {
      "name": "itertools.combinations().ipynb",
      "provenance": [],
      "authorship_tag": "ABX9TyPptnkhAJvgs+W4vRrOgRDz",
      "include_colab_link": true
    },
    "kernelspec": {
      "name": "python3",
      "display_name": "Python 3"
    }
  },
  "cells": [
    {
      "cell_type": "markdown",
      "metadata": {
        "id": "view-in-github",
        "colab_type": "text"
      },
      "source": [
        "<a href=\"https://colab.research.google.com/github/gitpushnjit/HackerRank-Practice-Python/blob/master/itertools_combinations().ipynb\" target=\"_parent\"><img src=\"https://colab.research.google.com/assets/colab-badge.svg\" alt=\"Open In Colab\"/></a>"
      ]
    },
    {
      "cell_type": "markdown",
      "metadata": {
        "id": "-xyPgh-3bvXO",
        "colab_type": "text"
      },
      "source": [
        "itertools.combinations(iterable, r)\n",
        "\n",
        "This tool returns the *r* length subsequences of elements from the input iterable.\n",
        "\n",
        "Combinations are emitted in lexicographic sorted order. So, if the input iterable is sorted, the combination tuples will be produced in sorted order.\n",
        "\n",
        "You are given a string *a*.\n",
        "Your task is to print all possible combinations, up to size *b*, of the string in lexicographic sorted order."
      ]
    },
    {
      "cell_type": "code",
      "metadata": {
        "id": "xdKMs2zXbsdi",
        "colab_type": "code",
        "colab": {
          "base_uri": "https://localhost:8080/",
          "height": 148
        },
        "outputId": "32a7769e-c6ac-462f-f467-39837bbdc2e4"
      },
      "source": [
        "from itertools import *\n",
        "\n",
        "a,b = input().split(' ')\n",
        "\n",
        "for l in range(1,int(b)+1):\n",
        "    for c in combinations (sorted(a),l):\n",
        "        print(''.join(c))"
      ],
      "execution_count": 1,
      "outputs": [
        {
          "output_type": "stream",
          "text": [
            "FOX 2\n",
            "F\n",
            "O\n",
            "X\n",
            "FO\n",
            "FX\n",
            "OX\n"
          ],
          "name": "stdout"
        }
      ]
    }
  ]
}