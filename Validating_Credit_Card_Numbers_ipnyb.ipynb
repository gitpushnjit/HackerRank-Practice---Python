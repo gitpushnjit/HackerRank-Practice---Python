{
  "nbformat": 4,
  "nbformat_minor": 0,
  "metadata": {
    "colab": {
      "name": "Validating Credit Card Numbers.ipnyb",
      "provenance": [],
      "authorship_tag": "ABX9TyOFkO4tRaXdiBsqrzRijKEA",
      "include_colab_link": true
    },
    "kernelspec": {
      "name": "python3",
      "display_name": "Python 3"
    }
  },
  "cells": [
    {
      "cell_type": "markdown",
      "metadata": {
        "id": "view-in-github",
        "colab_type": "text"
      },
      "source": [
        "<a href=\"https://colab.research.google.com/github/gitpushnjit/HackerRank-Practice-Python/blob/master/Validating_Credit_Card_Numbers_ipnyb.ipynb\" target=\"_parent\"><img src=\"https://colab.research.google.com/assets/colab-badge.svg\" alt=\"Open In Colab\"/></a>"
      ]
    },
    {
      "cell_type": "markdown",
      "metadata": {
        "id": "fai5At1jIOfn",
        "colab_type": "text"
      },
      "source": [
        "You and Fredrick are good friends. Yesterday, Fredrick received N credit cards from ABCD Bank. He wants to verify whether his credit card numbers are valid or not. You happen to be great at regex so he is asking for your help!\n",
        "\n",
        "A valid credit card from ABCD Bank has the following characteristics:\n",
        "\n",
        "* It must start with a 4, 5 or 6.\n",
        "* It must contain exactly 16 digits.\n",
        "* It must only consist of digits (0-9).\n",
        "* It may have digits in groups of 4, separated by one hyphen \"-\".\n",
        "* It must NOT use any other separator like ' ' , '_', etc.\n",
        "* It must NOT have 4 or more consecutive repeated digits."
      ]
    },
    {
      "cell_type": "code",
      "metadata": {
        "id": "8Qzjgu5gFl6V",
        "colab_type": "code",
        "outputId": "ae5923a8-10c9-49d3-ede7-93c026f81551",
        "colab": {
          "base_uri": "https://localhost:8080/",
          "height": 279
        }
      },
      "source": [
        "import re\n",
        "\n",
        "print(\"Print number of Credit Card numbers to be validated :\")\n",
        "for _ in range(int(input())):\n",
        "  Input = input()\n",
        "\n",
        "  if re.match(r\"^[456]([\\d]{15}|[\\d]{3}(-[\\d]{4}){3})$\", Input) and not re.search(r\"([\\d])\\1\\1\\1\", Input.replace(\"-\", \"\")):\n",
        "    print(\"Credit Card Number {} is Valid\".format(Input))\n",
        "    \n",
        "  else:\n",
        "    print(\"Credit Card Number {} is Invalid\".format(Input))"
      ],
      "execution_count": 0,
      "outputs": [
        {
          "output_type": "stream",
          "text": [
            "Print number of Credit Card numbers to be validated :\n",
            "6\n",
            "4123456789123456\n",
            "Credit Card Number 4123456789123456 is Valid\n",
            "5123-4567-8912-3456\n",
            "Credit Card Number 5123-4567-8912-3456 is Valid\n",
            "61234-567-8912-3456\n",
            "Credit Card Number 61234-567-8912-3456 is Invalid\n",
            "4123356789123456\n",
            "Credit Card Number 4123356789123456 is Valid\n",
            "5133-3367-8912-3456\n",
            "Credit Card Number 5133-3367-8912-3456 is Invalid\n",
            "5123 - 3567 - 8912 - 3456\n",
            "Credit Card Number 5123 - 3567 - 8912 - 3456 is Invalid\n"
          ],
          "name": "stdout"
        }
      ]
    }
  ]
}