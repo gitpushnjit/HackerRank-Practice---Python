{
  "nbformat": 4,
  "nbformat_minor": 0,
  "metadata": {
    "colab": {
      "name": "If Else",
      "provenance": [],
      "authorship_tag": "ABX9TyPIihMH3km3dtc+UIBYWacJ",
      "include_colab_link": true
    },
    "kernelspec": {
      "name": "python3",
      "display_name": "Python 3"
    }
  },
  "cells": [
    {
      "cell_type": "markdown",
      "metadata": {
        "id": "view-in-github",
        "colab_type": "text"
      },
      "source": [
        "<a href=\"https://colab.research.google.com/github/gitpushnjit/HackerRank-Practice-Python/blob/master/If_Else.ipynb\" target=\"_parent\"><img src=\"https://colab.research.google.com/assets/colab-badge.svg\" alt=\"Open In Colab\"/></a>"
      ]
    },
    {
      "cell_type": "markdown",
      "metadata": {
        "id": "hZvrsdHjUPHW",
        "colab_type": "text"
      },
      "source": [
        "Given an integer, n, perform the following conditional actions:\n",
        "\n",
        "* If n is odd, print Weird\n",
        "* If n is even and in the inclusive range of 2 to 5, print Not Weird\n",
        "* If n is even and in the inclusive range of 6 to 20, print Weird\n",
        "* If n is even and greater than 20, print Not Weird"
      ]
    },
    {
      "cell_type": "code",
      "metadata": {
        "id": "zbOc6jEuUXvB",
        "colab_type": "code",
        "colab": {
          "base_uri": "https://localhost:8080/",
          "height": 54
        },
        "outputId": "9b5457ae-ebaa-4216-9611-091b9920a436"
      },
      "source": [
        "import math\n",
        "import os\n",
        "import random\n",
        "import re\n",
        "import sys\n",
        "\n",
        "\n",
        "\n",
        "if __name__ == '__main__':\n",
        "    n = int(input().strip())\n",
        "\n",
        "    if(n%2!=0 or n in range(6,21)):\n",
        "        print(\"Weird\")\n",
        "    else:\n",
        "        print(\"Not Weird\")    "
      ],
      "execution_count": 3,
      "outputs": [
        {
          "output_type": "stream",
          "text": [
            "3\n",
            "Weird\n"
          ],
          "name": "stdout"
        }
      ]
    }
  ]
}