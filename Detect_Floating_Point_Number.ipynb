{
  "nbformat": 4,
  "nbformat_minor": 0,
  "metadata": {
    "colab": {
      "name": "Detect Floating Point Number.ipynb",
      "provenance": [],
      "authorship_tag": "ABX9TyNvOUiAk+i18CHxhyRxPwVf",
      "include_colab_link": true
    },
    "kernelspec": {
      "name": "python3",
      "display_name": "Python 3"
    }
  },
  "cells": [
    {
      "cell_type": "markdown",
      "metadata": {
        "id": "view-in-github",
        "colab_type": "text"
      },
      "source": [
        "<a href=\"https://colab.research.google.com/github/gitpushnjit/HackerRank-Practice-Python/blob/master/Detect_Floating_Point_Number.ipynb\" target=\"_parent\"><img src=\"https://colab.research.google.com/assets/colab-badge.svg\" alt=\"Open In Colab\"/></a>"
      ]
    },
    {
      "cell_type": "markdown",
      "metadata": {
        "id": "xZd1tmVPsiMB",
        "colab_type": "text"
      },
      "source": [
        "You are given a string N.\n",
        "\n",
        "Your task is to verify that N is a floating point number.\n",
        "\n",
        "In this task, a valid float number must satisfy all of the following requirements:\n",
        "\n",
        "Number can start with +, - or . symbol.\n",
        "For example:\n",
        "\n",
        "✔+4.50\n",
        "\n",
        "✔-1.0\n",
        "\n",
        "✔.5\n",
        "\n",
        "✔-.7\n",
        "\n",
        "✔+.4\n",
        "\n",
        "✖-+4.5\n",
        "\n",
        "Number must contain at least 1 decimal value.\n",
        "For example:\n",
        "\n",
        "✖12.\n",
        "\n",
        "✔12.0  \n",
        "\n",
        " Number must have exactly one . symbol.\n",
        " Number must not give any exceptions when converted using float(N)."
      ]
    },
    {
      "cell_type": "code",
      "metadata": {
        "id": "dDoMuJ7voowo",
        "colab_type": "code",
        "colab": {
          "base_uri": "https://localhost:8080/",
          "height": 204
        },
        "outputId": "78aa0d3e-26a9-45f3-f514-f526ab0286c1"
      },
      "source": [
        "import re\n",
        "print(\"Enter number of elements to test and then enter elements:\")\n",
        "\n",
        "for _ in range(int(input())):\n",
        "    print(bool(re.match(\"^[\\+-]?\\d*\\.\\d+$\", input())))"
      ],
      "execution_count": 15,
      "outputs": [
        {
          "output_type": "stream",
          "text": [
            "Enter number of elements to test and then enter elements:\n",
            "4\n",
            "6.00000\n",
            "True\n",
            "-1.987\n",
            "True\n",
            "+2.487\n",
            "True\n",
            "6.89p\n",
            "False\n"
          ],
          "name": "stdout"
        }
      ]
    }
  ]
}