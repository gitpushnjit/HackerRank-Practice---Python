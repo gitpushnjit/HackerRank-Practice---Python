{
  "nbformat": 4,
  "nbformat_minor": 0,
  "metadata": {
    "colab": {
      "name": "Matrix Script.ipynb",
      "provenance": [],
      "authorship_tag": "ABX9TyOpJltPiH0h4aaQ5rwHRN98",
      "include_colab_link": true
    },
    "kernelspec": {
      "name": "python3",
      "display_name": "Python 3"
    }
  },
  "cells": [
    {
      "cell_type": "markdown",
      "metadata": {
        "id": "view-in-github",
        "colab_type": "text"
      },
      "source": [
        "<a href=\"https://colab.research.google.com/github/gitpushnjit/HackerRank-Practice-Python/blob/master/Matrix_Script.ipynb\" target=\"_parent\"><img src=\"https://colab.research.google.com/assets/colab-badge.svg\" alt=\"Open In Colab\"/></a>"
      ]
    },
    {
      "cell_type": "markdown",
      "metadata": {
        "id": "Gz42J0S6XTUI",
        "colab_type": "text"
      },
      "source": [
        "Neo has a complex matrix script. The matrix script is a N X M grid of strings. It consists of alphanumeric characters, spaces and symbols (!,@,#,$,%,&).\n",
        "\n",
        "To decode the script, Neo needs to read each column and select only the alphanumeric characters and connect them. Neo reads the column from top to bottom and starts reading from the leftmost column.\n",
        "\n",
        "If there are symbols or spaces between two alphanumeric characters of the decoded script, then Neo replaces them with a single space ' ' for better readability.\n",
        "\n",
        "Neo feels that there is no need to use 'if' conditions for decoding.\n",
        "\n",
        "Alphanumeric characters consist of: [A-Z, a-z, and 0-9]."
      ]
    },
    {
      "cell_type": "code",
      "metadata": {
        "id": "fQA3CVcSXLGm",
        "colab_type": "code",
        "colab": {
          "base_uri": "https://localhost:8080/",
          "height": 185
        },
        "outputId": "3e7f941a-16d0-4a77-fc7e-0be683381aa6"
      },
      "source": [
        "import math\n",
        "import os\n",
        "import random\n",
        "import re\n",
        "import sys\n",
        "\n",
        "\n",
        "\n",
        "\n",
        "first_multiple_input = input().rstrip().split()\n",
        "\n",
        "N = int(first_multiple_input[0])\n",
        "\n",
        "M = int(first_multiple_input[1])\n",
        "\n",
        "matrix = []\n",
        "\n",
        "for _ in range(N):\n",
        "    matrix_item = input()\n",
        "    matrix.append(matrix_item)\n",
        "\n",
        "new = ''\n",
        "for i in range(0,M):\n",
        "    for j in range(0,N):\n",
        "        new = new + matrix[j][i]\n",
        "\n",
        "T1 = re.match(r'\\W*',new[::-1]).group()\n",
        "\n",
        "T1= T1[::-1]\n",
        "T2 = re.match(r'\\W*',new).group()\n",
        "S = re.sub('[^0-9a-zA-Z]+', ' ', new).rstrip().lstrip()\n",
        "k = T2 + S + T1\n",
        "print((k, T1) [S==''])        "
      ],
      "execution_count": 4,
      "outputs": [
        {
          "output_type": "stream",
          "text": [
            "7 3\n",
            "Tsi\n",
            "h%x\n",
            "i #\n",
            "sM \n",
            "$a \n",
            "#t%\n",
            "ir!\n",
            "This is Matrix#  %!\n"
          ],
          "name": "stdout"
        }
      ]
    }
  ]
}