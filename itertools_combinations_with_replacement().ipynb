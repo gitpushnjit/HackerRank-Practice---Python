{
  "nbformat": 4,
  "nbformat_minor": 0,
  "metadata": {
    "colab": {
      "name": "itertools.combinations_with_replacement().ipynb",
      "provenance": [],
      "authorship_tag": "ABX9TyNpshd20ap92xJCqr1ISyjj",
      "include_colab_link": true
    },
    "kernelspec": {
      "name": "python3",
      "display_name": "Python 3"
    }
  },
  "cells": [
    {
      "cell_type": "markdown",
      "metadata": {
        "id": "view-in-github",
        "colab_type": "text"
      },
      "source": [
        "<a href=\"https://colab.research.google.com/github/gitpushnjit/HackerRank-Practice-Python/blob/master/itertools_combinations_with_replacement().ipynb\" target=\"_parent\"><img src=\"https://colab.research.google.com/assets/colab-badge.svg\" alt=\"Open In Colab\"/></a>"
      ]
    },
    {
      "cell_type": "markdown",
      "metadata": {
        "id": "pywC8Af847sL",
        "colab_type": "text"
      },
      "source": [
        "itertools.combinations_with_replacement(iterable, r)\n",
        "\n",
        "This tool returns *r* length subsequences of elements from the input iterable allowing individual elements to be repeated more than once.\n",
        "\n",
        "Combinations are emitted in lexicographic sorted order. So, if the input iterable is sorted, the combination tuples will be produced in sorted order.\n",
        "\n",
        "You are given a string *a*.\n",
        "Your task is to print all possible size *b* replacement combinations of the string in lexicographic sorted order."
      ]
    },
    {
      "cell_type": "code",
      "metadata": {
        "id": "9jkwzbc74txj",
        "colab_type": "code",
        "colab": {
          "base_uri": "https://localhost:8080/",
          "height": 148
        },
        "outputId": "ce615f54-dddc-476a-836a-cbc9997fab28"
      },
      "source": [
        "from itertools import combinations_with_replacement\n",
        "\n",
        "a, b = input().split()\n",
        "\n",
        "for c in combinations_with_replacement(sorted(a), int(b)):\n",
        "    print(\"\".join(c))"
      ],
      "execution_count": 4,
      "outputs": [
        {
          "output_type": "stream",
          "text": [
            "FOX 2\n",
            "FF\n",
            "FO\n",
            "FX\n",
            "OO\n",
            "OX\n",
            "XX\n"
          ],
          "name": "stdout"
        }
      ]
    }
  ]
}