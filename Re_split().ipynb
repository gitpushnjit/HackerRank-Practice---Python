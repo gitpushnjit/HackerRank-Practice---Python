{
  "nbformat": 4,
  "nbformat_minor": 0,
  "metadata": {
    "colab": {
      "name": "Re.split().ipynb",
      "provenance": [],
      "authorship_tag": "ABX9TyPfmarq2TB0lCaDpxZc6lIP",
      "include_colab_link": true
    },
    "kernelspec": {
      "name": "python3",
      "display_name": "Python 3"
    }
  },
  "cells": [
    {
      "cell_type": "markdown",
      "metadata": {
        "id": "view-in-github",
        "colab_type": "text"
      },
      "source": [
        "<a href=\"https://colab.research.google.com/github/gitpushnjit/HackerRank-Practice-Python/blob/master/Re_split().ipynb\" target=\"_parent\"><img src=\"https://colab.research.google.com/assets/colab-badge.svg\" alt=\"Open In Colab\"/></a>"
      ]
    },
    {
      "cell_type": "markdown",
      "metadata": {
        "id": "DcJ9d5t66vEF",
        "colab_type": "text"
      },
      "source": [
        "You are given a string s consisting only of digits 0-9, commas and dots.\n",
        "\n",
        "Your task is to complete the regex_pattern defined below, which will be used to re.split() all of the , and . symbols in s.\n",
        "\n",
        "It’s guaranteed that every comma and every dot in s is preceeded and followed by a digit."
      ]
    },
    {
      "cell_type": "code",
      "metadata": {
        "id": "_sb4iXij6uWL",
        "colab_type": "code",
        "colab": {
          "base_uri": "https://localhost:8080/",
          "height": 129
        },
        "outputId": "8a2fd267-5605-4e97-a0ca-80928399a5b8"
      },
      "source": [
        "print(\"Input a number with commas and decimal point and press ENTER to see the number split\")\n",
        "regex_pattern = r\"[.,]\" # Do not delete 'r'.\n",
        "\n",
        "import re\n",
        "print(\"\\n\".join(re.split(regex_pattern, input())))"
      ],
      "execution_count": 2,
      "outputs": [
        {
          "output_type": "stream",
          "text": [
            "Input a number with commas and decimal point and press ENTER to see the number split\n",
            "123,456,789.098\n",
            "123\n",
            "456\n",
            "789\n",
            "098\n"
          ],
          "name": "stdout"
        }
      ]
    }
  ]
}